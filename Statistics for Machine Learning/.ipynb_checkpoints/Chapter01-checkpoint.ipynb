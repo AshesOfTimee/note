{
 "cells": [
  {
   "cell_type": "markdown",
   "metadata": {},
   "source": [
    "主要讲了三个问题：\n",
    "1.统计学的里有关模型创建和验证的术语\n",
    "2.机器学习里有关模型创建和验证的术语\n",
    "3.机器学习模型的概览"
   ]
  },
  {
   "cell_type": "markdown",
   "metadata": {},
   "source": [
    "# Statistical terminology for model building and validation"
   ]
  },
  {
   "cell_type": "markdown",
   "metadata": {},
   "source": [
    "统计学主要分为两个分支：\n",
    "    ·描述性统计(Descriptive statistics):主要是用来总结性描述一组数据，前提是你能够把你想要描述的数据全部收集起来，然后你就去计算均值、方差等等。\n",
    "    ·推断性统计(Interential statistics):如果某个数据太多了，你不可能全部收集，比如人口总数，你能获得的只是一个子集(sample)，你要用这个子集，去推断数据整体的一些特征。常用的有假设检验、相关性检验等等。"
   ]
  },
  {
   "cell_type": "markdown",
   "metadata": {},
   "source": [
    "统计模型应用一些统计方法在数据上去发现一些隐藏在数据之下的关系，通过分析变量的重要性(“analyzing the significance of the variables.”)"
   ]
  },
  {
   "cell_type": "markdown",
   "metadata": {},
   "source": [
    "# Machine learning"
   ]
  },
  {
   "cell_type": "markdown",
   "metadata": {},
   "source": [
    "分为监督学习，非监督学习，增强学习"
   ]
  },
  {
   "cell_type": "markdown",
   "metadata": {},
   "source": [
    "# Major differences between statistical modeling and machine learning"
   ]
  },
  {
   "cell_type": "markdown",
   "metadata": {},
   "source": [
    "统计模型对数据有更多的假设，你要先假设这组数据从某个分布中生成，这里类似于参数估计，你要做的是从这组数据里估计出这个参数。机器学习里就没有这种假设。"
   ]
  },
  {
   "cell_type": "markdown",
   "metadata": {},
   "source": [
    "统计模型得到的结果要进行检验，例如p检验等等，机器学习不需要。"
   ]
  },
  {
   "cell_type": "markdown",
   "metadata": {},
   "source": [
    "# Statistical fundamentals and terminology for model building and validation"
   ]
  },
  {
   "cell_type": "markdown",
   "metadata": {},
   "source": [
    "统计模型有一个假设就是历史会不断重演。"
   ]
  },
  {
   "cell_type": "markdown",
   "metadata": {},
   "source": [
    "Population:观测对象的整体。"
   ]
  },
  {
   "cell_type": "markdown",
   "metadata": {},
   "source": [
    "Sample:population的一个子集。"
   ]
  },
  {
   "cell_type": "markdown",
   "metadata": {},
   "source": [
    "Parameter & statistic:在整体上计算出来的相关数值，称之为parameter，参数，就是说这个数值是真正的数。如果在子集上算出来的只能叫做统计量，statistic。这只是从一个样本计算出来的，他或许不是这组数据背后真正的那个参数。"
   ]
  },
  {
   "cell_type": "markdown",
   "metadata": {},
   "source": [
    "均值、中位数:略"
   ]
  },
  {
   "cell_type": "markdown",
   "metadata": {},
   "source": [
    "Mode:出现次数最多的那个数。"
   ]
  },
  {
   "cell_type": "markdown",
   "metadata": {},
   "source": [
    "对于标准正太分布，mean,median,mode都是一个数。"
   ]
  },
  {
   "cell_type": "code",
   "execution_count": 1,
   "metadata": {
    "collapsed": true
   },
   "outputs": [],
   "source": [
    "import numpy as np\n",
    "from scipy import stats"
   ]
  },
  {
   "cell_type": "code",
   "execution_count": 2,
   "metadata": {
    "collapsed": true
   },
   "outputs": [],
   "source": [
    "data = np.array([4,5,1,2,7,2,6,3,9,3])"
   ]
  },
  {
   "cell_type": "code",
   "execution_count": 3,
   "metadata": {},
   "outputs": [
    {
     "data": {
      "text/plain": [
       "4.2"
      ]
     },
     "execution_count": 3,
     "metadata": {},
     "output_type": "execute_result"
    }
   ],
   "source": [
    "np.mean(data)"
   ]
  },
  {
   "cell_type": "code",
   "execution_count": 4,
   "metadata": {},
   "outputs": [
    {
     "data": {
      "text/plain": [
       "3.5"
      ]
     },
     "execution_count": 4,
     "metadata": {},
     "output_type": "execute_result"
    }
   ],
   "source": [
    "np.median(data)"
   ]
  },
  {
   "cell_type": "code",
   "execution_count": 5,
   "metadata": {},
   "outputs": [
    {
     "data": {
      "text/plain": [
       "ModeResult(mode=array([2]), count=array([2]))"
      ]
     },
     "execution_count": 5,
     "metadata": {},
     "output_type": "execute_result"
    }
   ],
   "source": [
    "stats.mode(data)"
   ]
  },
  {
   "cell_type": "code",
   "execution_count": 6,
   "metadata": {},
   "outputs": [
    {
     "data": {
      "text/plain": [
       "2.5"
      ]
     },
     "execution_count": 6,
     "metadata": {},
     "output_type": "execute_result"
    }
   ],
   "source": [
    "np.mean([1,2,3,4])"
   ]
  },
  {
   "cell_type": "markdown",
   "metadata": {},
   "source": [
    "### Measure of variation"
   ]
  },
  {
   "cell_type": "markdown",
   "metadata": {},
   "source": [
    "Measure of variation:描述数据离散程度"
   ]
  },
  {
   "cell_type": "markdown",
   "metadata": {},
   "source": [
    "Range:范围，最小值到最大值"
   ]
  },
  {
   "cell_type": "markdown",
   "metadata": {},
   "source": [
    "Variance:方差，描述数据距离均值的距离。值得注意的是，在样本里求平均数分母是n-1,称之为方差的无偏估计，整体的分母除以的是n。"
   ]
  },
  {
   "cell_type": "markdown",
   "metadata": {},
   "source": [
    "Standard deviation:标准差，方差开方(square root)。"
   ]
  },
  {
   "cell_type": "markdown",
   "metadata": {},
   "source": [
    "### Quantiles"
   ]
  },
  {
   "cell_type": "markdown",
   "metadata": {},
   "source": [
    "Quantiles:分位数，是一种对数据的分割的方法，在计算分位数之前，要把数据按照升序排序。"
   ]
  },
  {
   "cell_type": "markdown",
   "metadata": {},
   "source": [
    "Percentile:多少多少分位数，50分位数指的是一组数据里这样一个数：比这个数小的数占整个数据的50%。"
   ]
  },
  {
   "cell_type": "markdown",
   "metadata": {},
   "source": [
    "Decils:10th Percentile,比这个数小的数据占整个数据的百分之10"
   ]
  },
  {
   "cell_type": "markdown",
   "metadata": {},
   "source": [
    "Quartile:四分位数，有第一四分位数、第二、第三四分位数。"
   ]
  },
  {
   "cell_type": "markdown",
   "metadata": {},
   "source": [
    "Interquartile range:第一四分位数和第三四分位数，这两个四分位数之间的数据占据了整个数据的百分之50，一般用来找异常值，不过这个范围还是大了点。"
   ]
  },
  {
   "cell_type": "markdown",
   "metadata": {},
   "source": [
    "### Hypothesis testing"
   ]
  },
  {
   "cell_type": "markdown",
   "metadata": {},
   "source": [
    "通过在sample上进行一些统计检验去对整体数据做一个推断，去检验一个现象是否在population上是统计显著的，或者不显著的。"
   ]
  },
  {
   "cell_type": "markdown",
   "metadata": {},
   "source": [
    "P-value:‘这个变量的p-value小于0.05，所以这个变量很重要’。"
   ]
  },
  {
   "cell_type": "markdown",
   "metadata": {},
   "source": [
    "p-value很多时候用来在回归分析的时候去分析自变量和因变量是否有相关性。\n",
    "你做了一个回归分析，解出来了一个回归方程。此时有一个杠精，他叫H0，他提出一个看法，他说某个自变量X1跟因变量没有关系。通过一系列计算，你得到一个概率：在X1与因变量没有关系的假设下，能够得到训练数据的概率是p，这个p就是p-value。如果p-value小于0.05（工程经验，可以根据不同的情况作出修改），这就意味着在杠精的假设下，只有小于0.05的概率才会出现眼前的情况，这个值在统计学上被认作是一个很小的概率，你推翻杠精的假设，从而为你的X1变量洗刷清白——X1变量是显著的！"
   ]
  },
  {
   "cell_type": "markdown",
   "metadata": {},
   "source": [
    "这个一系列计算是怎么算的？"
   ]
  },
  {
   "cell_type": "markdown",
   "metadata": {},
   "source": [
    "显著性检测感觉很像去比较一组观测数据是否源自某一分布。通过卡方检验，查表得到p-value"
   ]
  },
  {
   "cell_type": "markdown",
   "metadata": {},
   "source": [
    "Type 1 2 error"
   ]
  },
  {
   "cell_type": "markdown",
   "metadata": {},
   "source": [
    "用局部去推断整体难免会犯错误，分为1型和2型错误。1型错误是冤枉了一个好人——拒绝了一个正确的零假设，2型错误是放过了一个坏人——接收了一个错误的假设。"
   ]
  },
  {
   "cell_type": "code",
   "execution_count": null,
   "metadata": {
    "collapsed": true
   },
   "outputs": [],
   "source": []
  }
 ],
 "metadata": {
  "kernelspec": {
   "display_name": "Python 3",
   "language": "python",
   "name": "python3"
  },
  "language_info": {
   "codemirror_mode": {
    "name": "ipython",
    "version": 3
   },
   "file_extension": ".py",
   "mimetype": "text/x-python",
   "name": "python",
   "nbconvert_exporter": "python",
   "pygments_lexer": "ipython3",
   "version": "3.6.3"
  }
 },
 "nbformat": 4,
 "nbformat_minor": 2
}
