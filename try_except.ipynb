{
 "cells": [
  {
   "cell_type": "markdown",
   "metadata": {},
   "source": [
    "如果怀疑某段代码在执行的过程中，可能会出现问题，使用try包裹起来运行。"
   ]
  },
  {
   "cell_type": "code",
   "execution_count": 1,
   "metadata": {},
   "outputs": [
    {
     "name": "stdout",
     "output_type": "stream",
     "text": [
      "try..\n",
      "except division by zero\n",
      "finallt\n"
     ]
    }
   ],
   "source": [
    "try:\n",
    "    print('try..')\n",
    "    r = 10/0\n",
    "    print('result',r)\n",
    "except ZeroDivisionError as e:\n",
    "    print('except',e)\n",
    "finally:\n",
    "    print('finallt')"
   ]
  },
  {
   "cell_type": "markdown",
   "metadata": {},
   "source": [
    "错误有很多不同的种类，不同种类的错误要用不同的except去捕获。"
   ]
  },
  {
   "cell_type": "code",
   "execution_count": 2,
   "metadata": {},
   "outputs": [
    {
     "name": "stdout",
     "output_type": "stream",
     "text": [
      "try..\n",
      "ValueError: invalid literal for int() with base 10: 'a'\n",
      "finally\n"
     ]
    }
   ],
   "source": [
    "try:\n",
    "    print('try..')\n",
    "    r = 10/int('a')\n",
    "    print('result', r)\n",
    "except ValueError as e :\n",
    "    print('ValueError:', e)\n",
    "except ZeroDivisionError as e:\n",
    "    print('ZeroDivisionError',e)\n",
    "finally:\n",
    "    print('finally')"
   ]
  },
  {
   "cell_type": "markdown",
   "metadata": {},
   "source": [
    "使用了很多except时候，在except后面加上一个else，意味着当没有错误发生的时候就执行else里的内容。"
   ]
  },
  {
   "cell_type": "code",
   "execution_count": 4,
   "metadata": {},
   "outputs": [
    {
     "name": "stdout",
     "output_type": "stream",
     "text": [
      "try..\n",
      "result 5.0\n",
      "no error\n",
      "finally\n"
     ]
    }
   ],
   "source": [
    "try:\n",
    "    print('try..')\n",
    "    r = 10/int('2')\n",
    "    print('result', r)\n",
    "except ValueError as e :\n",
    "    print('ValueError:', e)\n",
    "except ZeroDivisionError as e:\n",
    "    print('ZeroDivisionError',e)\n",
    "else:\n",
    "    print('no error')\n",
    "finally:\n",
    "    print('finally')"
   ]
  },
  {
   "cell_type": "markdown",
   "metadata": {},
   "source": [
    "错误的类型有很多，之间存在着一定的集成关系，except不仅仅单单捕获你指定的类，还会把他所有的子类都捕获到。"
   ]
  },
  {
   "cell_type": "code",
   "execution_count": 5,
   "metadata": {},
   "outputs": [
    {
     "name": "stdout",
     "output_type": "stream",
     "text": [
      "try..\n",
      "ValueError: invalid literal for int() with base 10: 'a'\n",
      "finally\n"
     ]
    }
   ],
   "source": [
    "try:\n",
    "    print('try..')\n",
    "    r = 10/int('a')\n",
    "    print('result', r)\n",
    "except ValueError as e :\n",
    "    print('ValueError:', e)\n",
    "except UnicodeError as e:\n",
    "    print('UnicodeError',e)\n",
    "else:\n",
    "    print('no error')\n",
    "finally:\n",
    "    print('finally')"
   ]
  },
  {
   "cell_type": "markdown",
   "metadata": {},
   "source": [
    "UnicodeError是ValueError的子类，所以他不会被捕捉到."
   ]
  },
  {
   "cell_type": "markdown",
   "metadata": {},
   "source": [
    "异常栈：函数存在调用关系，Traceback打印出来的信息，按照从上到下的顺序打印，也就是完整的调用关系。最下面的是出现问题最根本的地方，上面依次是调用关系，从main()开始。"
   ]
  },
  {
   "cell_type": "markdown",
   "metadata": {},
   "source": [
    "错误都是一个类，我们可以自己定义自己的错误类别，选择好要继承的类。但是最好还是使用python为我们提供的类。"
   ]
  },
  {
   "cell_type": "code",
   "execution_count": 8,
   "metadata": {},
   "outputs": [],
   "source": [
    "class FooError(ValueError):\n",
    "    pass\n",
    "\n",
    "def foo(s):\n",
    "    n = int(s)\n",
    "    if n == 0:\n",
    "        raise FooError('invalid value %s'%s)\n",
    "        "
   ]
  },
  {
   "cell_type": "code",
   "execution_count": 9,
   "metadata": {},
   "outputs": [
    {
     "ename": "FooError",
     "evalue": "invalid value 0",
     "output_type": "error",
     "traceback": [
      "\u001b[0;31m---------------------------------------------------------------------------\u001b[0m",
      "\u001b[0;31mFooError\u001b[0m                                  Traceback (most recent call last)",
      "\u001b[0;32m<ipython-input-9-f3d11c7578dc>\u001b[0m in \u001b[0;36m<module>\u001b[0;34m()\u001b[0m\n\u001b[0;32m----> 1\u001b[0;31m \u001b[0mfoo\u001b[0m\u001b[0;34m(\u001b[0m\u001b[0;36m0\u001b[0m\u001b[0;34m)\u001b[0m\u001b[0;34m\u001b[0m\u001b[0m\n\u001b[0m",
      "\u001b[0;32m<ipython-input-8-6a50186103da>\u001b[0m in \u001b[0;36mfoo\u001b[0;34m(s)\u001b[0m\n\u001b[1;32m      5\u001b[0m     \u001b[0mn\u001b[0m \u001b[0;34m=\u001b[0m \u001b[0mint\u001b[0m\u001b[0;34m(\u001b[0m\u001b[0ms\u001b[0m\u001b[0;34m)\u001b[0m\u001b[0;34m\u001b[0m\u001b[0m\n\u001b[1;32m      6\u001b[0m     \u001b[0;32mif\u001b[0m \u001b[0mn\u001b[0m \u001b[0;34m==\u001b[0m \u001b[0;36m0\u001b[0m\u001b[0;34m:\u001b[0m\u001b[0;34m\u001b[0m\u001b[0m\n\u001b[0;32m----> 7\u001b[0;31m         \u001b[0;32mraise\u001b[0m \u001b[0mFooError\u001b[0m\u001b[0;34m(\u001b[0m\u001b[0;34m'invalid value %s'\u001b[0m\u001b[0;34m%\u001b[0m\u001b[0ms\u001b[0m\u001b[0;34m)\u001b[0m\u001b[0;34m\u001b[0m\u001b[0m\n\u001b[0m\u001b[1;32m      8\u001b[0m \u001b[0;34m\u001b[0m\u001b[0m\n",
      "\u001b[0;31mFooError\u001b[0m: invalid value 0"
     ]
    }
   ],
   "source": [
    "foo(0)"
   ]
  },
  {
   "cell_type": "code",
   "execution_count": null,
   "metadata": {
    "collapsed": true
   },
   "outputs": [],
   "source": []
  }
 ],
 "metadata": {
  "kernelspec": {
   "display_name": "Python 3",
   "language": "python",
   "name": "python3"
  },
  "language_info": {
   "codemirror_mode": {
    "name": "ipython",
    "version": 3
   },
   "file_extension": ".py",
   "mimetype": "text/x-python",
   "name": "python",
   "nbconvert_exporter": "python",
   "pygments_lexer": "ipython3",
   "version": "3.6.3"
  }
 },
 "nbformat": 4,
 "nbformat_minor": 2
}
